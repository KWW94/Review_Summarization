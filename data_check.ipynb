{
 "cells": [
  {
   "cell_type": "code",
   "execution_count": null,
   "metadata": {},
   "outputs": [],
   "source": [
    "import os\n",
    "import json\n",
    "import tqdm\n",
    "from collections import Counter\n",
    "import numpy as np\n",
    "import nltk\n",
    "import pandas as pd"
   ]
  },
  {
   "cell_type": "code",
   "execution_count": null,
   "metadata": {},
   "outputs": [],
   "source": [
    "path = \"./\"\n",
    "\n",
    "data_list=[]\n",
    "\n",
    "for file in tqdm.tqdm(os.listdir(path)):\n",
    "    if file.endswith(\".csv\"): \n",
    "        data_list.append(file)\n",
    "print(data_list)\n",
    "\n",
    "data = pd.read_csv(path+data_list[0])\n",
    "\n",
    "data = data[['Summary','Text']].dropna(axis=0)\n",
    "\n",
    "data.keys()\n",
    "\n",
    "targets = list(data['Summary'])\n",
    "\n",
    "inputs = list(data['Text'])"
   ]
  },
  {
   "cell_type": "code",
   "execution_count": null,
   "metadata": {},
   "outputs": [],
   "source": [
    "len(inputs)"
   ]
  },
  {
   "cell_type": "code",
   "execution_count": null,
   "metadata": {
    "scrolled": true
   },
   "outputs": [],
   "source": [
    "path = \"./\"\n",
    "\n",
    "data_list=[]\n",
    "\n",
    "for file in tqdm.tqdm(os.listdir(path)):\n",
    "    if file.endswith(\".csv\"): \n",
    "        data_list.append(file)\n",
    "print(data_list)\n",
    "\n",
    "data = pd.read_csv(path+data_list[0])\n",
    "\n",
    "data = data[['Summary','Text']].dropna(axis=0)\n",
    "\n",
    "data.keys()\n",
    "\n",
    "targets = list(data['Summary'])\n",
    "\n",
    "inputs = list(data['Text'])\n",
    "\n",
    "targets_tag = []\n",
    "for target_ in tqdm.tqdm(targets):\n",
    "    temp = []\n",
    "    for tag in nltk.tokenize.word_tokenize(target_.lower()):\n",
    "        temp.append(tag)\n",
    "    targets_tag.append(temp)\n",
    "\n",
    "inputs_tag = []\n",
    "for input_ in tqdm.tqdm(inputs):\n",
    "    temp = []\n",
    "    for tag in nltk.tokenize.word_tokenize(input_.lower()):\n",
    "        temp.append(tag)\n",
    "    inputs_tag.append(temp)\n",
    "\n",
    "dict_targets = {}\n",
    "for i,j in enumerate(targets_tag):\n",
    "    dict_targets[i] = j\n",
    "\n",
    "with open('dict_targets_Reviews.json', 'w', encoding='UTF-8') as f:\n",
    "    json.dump(dict_targets, f, ensure_ascii=False)\n",
    "\n",
    "dict_inputs = {}\n",
    "for i,j in enumerate( inputs_tag):\n",
    "    dict_inputs[i] = j\n",
    "\n",
    "with open('dict_inputs_Reviews.json', 'w', encoding='UTF-8') as f:\n",
    "    json.dump(dict_inputs, f, ensure_ascii=False)\n"
   ]
  },
  {
   "cell_type": "code",
   "execution_count": null,
   "metadata": {},
   "outputs": [],
   "source": [
    "with open('dict_targets_Reviews.json', 'r', encoding='UTF-8') as f:\n",
    "    target_dict=json.load(f)"
   ]
  },
  {
   "cell_type": "code",
   "execution_count": null,
   "metadata": {},
   "outputs": [],
   "source": [
    "with open('dict_inputs_Reviews.json', 'r', encoding='UTF-8') as f:\n",
    "    inputs_dict=json.load(f)"
   ]
  },
  {
   "cell_type": "code",
   "execution_count": null,
   "metadata": {},
   "outputs": [],
   "source": [
    "input_counter = []\n",
    "for key in target_dict.keys():\n",
    "    input_counter += target_dict[key]\n",
    "    input_counter += inputs_dict[key]"
   ]
  },
  {
   "cell_type": "code",
   "execution_count": null,
   "metadata": {},
   "outputs": [],
   "source": [
    "count = Counter(input_counter)"
   ]
  },
  {
   "cell_type": "code",
   "execution_count": null,
   "metadata": {},
   "outputs": [],
   "source": [
    "%matplotlib inline\n",
    "import matplotlib.pyplot as plt\n",
    "import numpy as np"
   ]
  },
  {
   "cell_type": "code",
   "execution_count": null,
   "metadata": {},
   "outputs": [],
   "source": [
    "x = []\n",
    "y = []\n",
    "for item in count.most_common():\n",
    "    x.append(item[0])\n",
    "    y.append(item[1])"
   ]
  },
  {
   "cell_type": "code",
   "execution_count": null,
   "metadata": {},
   "outputs": [],
   "source": [
    "n = len(x)\n",
    "index = np.arange(n)"
   ]
  },
  {
   "cell_type": "code",
   "execution_count": null,
   "metadata": {},
   "outputs": [],
   "source": [
    "plt.bar(index, y, tick_label=x, align='center')\n",
    "plt.show()"
   ]
  },
  {
   "cell_type": "code",
   "execution_count": null,
   "metadata": {},
   "outputs": [],
   "source": []
  },
  {
   "cell_type": "markdown",
   "metadata": {},
   "source": [
    "# min count: 5 => 이유가 필요할듯"
   ]
  },
  {
   "cell_type": "code",
   "execution_count": null,
   "metadata": {},
   "outputs": [],
   "source": [
    "keys = list(count.keys())\n",
    "unk_list = []\n",
    "word_list = []\n",
    "for key in keys:\n",
    "    if count[key] < 5:\n",
    "        unk_list.append(key)\n",
    "    else:\n",
    "        word_list.append(key)"
   ]
  },
  {
   "cell_type": "code",
   "execution_count": null,
   "metadata": {},
   "outputs": [],
   "source": [
    "len(unk_list)/len(count)"
   ]
  },
  {
   "cell_type": "code",
   "execution_count": null,
   "metadata": {},
   "outputs": [],
   "source": [
    "len(word_list)"
   ]
  },
  {
   "cell_type": "code",
   "execution_count": null,
   "metadata": {},
   "outputs": [],
   "source": [
    "word_unk_dic = {'UNK':unk_list,'WORD':word_list}"
   ]
  },
  {
   "cell_type": "code",
   "execution_count": null,
   "metadata": {},
   "outputs": [],
   "source": [
    "with open('word_unk_dic.json', 'w', encoding='UTF-8') as f:\n",
    "    json.dump(word_unk_dic, f, ensure_ascii=False)"
   ]
  },
  {
   "cell_type": "code",
   "execution_count": null,
   "metadata": {},
   "outputs": [],
   "source": [
    "with open('word_unk_dic.json', 'r', encoding='UTF-8') as f:\n",
    "    word_unk_dic=json.load(f)"
   ]
  },
  {
   "cell_type": "markdown",
   "metadata": {},
   "source": [
    "# unk 데이터 만들기"
   ]
  },
  {
   "cell_type": "code",
   "execution_count": null,
   "metadata": {},
   "outputs": [],
   "source": [
    "_PAD_ = \"_PAD_\"  # 빈칸 채우는 심볼\n",
    "_STA_ = \"_STA_\"  # 디코드 입력 시퀀스의 시작 심볼\n",
    "_EOS_ = \"_EOS_\"  # 디코드 입출력 시퀀스의 종료 심볼\n",
    "_UNK_ = \"_UNK_\"  # 사전에 없는 단어를 나타내는 심볼\n",
    "\n",
    "_PAD_ID_ = 0\n",
    "_STA_ID_ = 1\n",
    "_EOS_ID_ = 2\n",
    "_UNK_ID_ = 3\n",
    "_PRE_DEFINED_ = [_PAD_ID_, _STA_ID_, _EOS_ID_, _UNK_ID_]\n",
    "\n",
    "_PRE_DEFINED_dict = {_PAD_:_PAD_ID_, _STA_:_STA_ID_, _EOS_:_EOS_ID_, _UNK_:_UNK_ID_}"
   ]
  },
  {
   "cell_type": "code",
   "execution_count": null,
   "metadata": {},
   "outputs": [],
   "source": [
    "def unk_make(data_dic):\n",
    "    keys = list(data_dic.keys())\n",
    "    i = 0\n",
    "    for key in tqdm.tqdm(keys):\n",
    "        i += 1\n",
    "        for index, word in enumerate(data_dic[key]):   \n",
    "            if word in unk_list:\n",
    "                data_dic[key][index] = _UNK_\n",
    "    return data_dic"
   ]
  },
  {
   "cell_type": "code",
   "execution_count": null,
   "metadata": {},
   "outputs": [],
   "source": [
    "target_dict = unk_make(target_dict)\n",
    "inputs_dict = unk_make(inputs_dict)"
   ]
  },
  {
   "cell_type": "code",
   "execution_count": null,
   "metadata": {},
   "outputs": [],
   "source": [
    "with open('dict_targets_Reviews.json', 'w', encoding='UTF-8') as f:\n",
    "    json.dump(target_dict, f, ensure_ascii=False)\n",
    "\n",
    "with open('dict_inputs_Reviews.json', 'w', encoding='UTF-8') as f:\n",
    "    json.dump(inputs_dict, f, ensure_ascii=False)"
   ]
  },
  {
   "cell_type": "code",
   "execution_count": null,
   "metadata": {},
   "outputs": [],
   "source": []
  },
  {
   "cell_type": "code",
   "execution_count": null,
   "metadata": {},
   "outputs": [],
   "source": []
  }
 ],
 "metadata": {
  "kernelspec": {
   "display_name": "Python [default]",
   "language": "python",
   "name": "python3"
  },
  "language_info": {
   "codemirror_mode": {
    "name": "ipython",
    "version": 3
   },
   "file_extension": ".py",
   "mimetype": "text/x-python",
   "name": "python",
   "nbconvert_exporter": "python",
   "pygments_lexer": "ipython3",
   "version": "3.6.5"
  }
 },
 "nbformat": 4,
 "nbformat_minor": 2
}
